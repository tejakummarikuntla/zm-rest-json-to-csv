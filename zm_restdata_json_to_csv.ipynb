{
 "cells": [
  {
   "cell_type": "code",
   "execution_count": 1,
   "metadata": {},
   "outputs": [],
   "source": [
    "import os\n",
    "import requests\n",
    "import logging\n",
    "from io import StringIO\n",
    "import urllib.request \n",
    "import requests\n",
    "import pandas as pd\n",
    "from pandas.io.json import json_normalize \n",
    "from datetime import datetime\n",
    "from time import time\n",
    "\n",
    "reqColumnFilter = ['restaurant.R.res_id',\n",
    "                   'restaurant.name',\n",
    "                   'restaurant.cuisines',\n",
    "                   'restaurant.average_cost_for_two',\n",
    "                   'restaurant.location.locality',\n",
    "                   'restaurant.location.city',\n",
    "                   'restaurant.location.address',\n",
    "                   'restaurant.location.latitude',\n",
    "                   'restaurant.location.longitude',\n",
    "                   'restaurant.user_rating.aggregate_rating',\n",
    "                   'restaurant.user_rating.rating_text',\n",
    "                   'restaurant.menu_url'\n",
    "                   ]"
   ]
  },
  {
   "cell_type": "code",
   "execution_count": 2,
   "metadata": {},
   "outputs": [],
   "source": [
    "zmRootEndpoint = 'https://developers.zomato.com/api/v2.1'\n",
    "zmApiToken = ''\n",
    "\n",
    "getSearchDetails = '/search?entity_id={eId}&entity_type={city}&q={q}&start={start}&count={count}&lat={lat}&lon={lon}&radius={rad}'"
   ]
  },
  {
   "cell_type": "code",
   "execution_count": 62,
   "metadata": {},
   "outputs": [
    {
     "data": {
      "text/html": [
       "<div>\n",
       "<style scoped>\n",
       "    .dataframe tbody tr th:only-of-type {\n",
       "        vertical-align: middle;\n",
       "    }\n",
       "\n",
       "    .dataframe tbody tr th {\n",
       "        vertical-align: top;\n",
       "    }\n",
       "\n",
       "    .dataframe thead th {\n",
       "        text-align: right;\n",
       "    }\n",
       "</style>\n",
       "<table border=\"1\" class=\"dataframe\">\n",
       "  <thead>\n",
       "    <tr style=\"text-align: right;\">\n",
       "      <th></th>\n",
       "      <th>restaurant.R.res_id</th>\n",
       "      <th>restaurant.name</th>\n",
       "      <th>restaurant.cuisines</th>\n",
       "      <th>restaurant.average_cost_for_two</th>\n",
       "      <th>restaurant.location.locality</th>\n",
       "      <th>restaurant.location.city</th>\n",
       "      <th>restaurant.location.address</th>\n",
       "      <th>restaurant.location.latitude</th>\n",
       "      <th>restaurant.location.longitude</th>\n",
       "      <th>restaurant.user_rating.aggregate_rating</th>\n",
       "      <th>restaurant.user_rating.rating_text</th>\n",
       "      <th>restaurant.menu_url</th>\n",
       "    </tr>\n",
       "  </thead>\n",
       "  <tbody>\n",
       "    <tr>\n",
       "      <th>0</th>\n",
       "      <td>18369252</td>\n",
       "      <td>Pakwan Chennai</td>\n",
       "      <td>North Indian, Chinese, Italian</td>\n",
       "      <td>1200</td>\n",
       "      <td>T. Nagar</td>\n",
       "      <td>Chennai</td>\n",
       "      <td>10, Kuppuswamy Street, G N Chetty Road, T. Nag...</td>\n",
       "      <td>13.0448925413</td>\n",
       "      <td>80.2388365567</td>\n",
       "      <td>4.2</td>\n",
       "      <td>Very Good</td>\n",
       "      <td>https://www.zomato.com/chennai/pakwan-chennai-...</td>\n",
       "    </tr>\n",
       "    <tr>\n",
       "      <th>1</th>\n",
       "      <td>66412</td>\n",
       "      <td>Mathsya</td>\n",
       "      <td>South Indian, North Indian, Chinese, Beverages</td>\n",
       "      <td>900</td>\n",
       "      <td>Egmore</td>\n",
       "      <td>Chennai</td>\n",
       "      <td>1, Halls Road, Egmore, Chennai</td>\n",
       "      <td>13.0750106485</td>\n",
       "      <td>80.2578178793</td>\n",
       "      <td>4.1</td>\n",
       "      <td>Very Good</td>\n",
       "      <td>https://www.zomato.com/chennai/mathsya-egmore/...</td>\n",
       "    </tr>\n",
       "    <tr>\n",
       "      <th>2</th>\n",
       "      <td>68908</td>\n",
       "      <td>Welcome Hotel</td>\n",
       "      <td>South Indian</td>\n",
       "      <td>250</td>\n",
       "      <td>Purasavakkam</td>\n",
       "      <td>Chennai</td>\n",
       "      <td>112/241, Purasawalkam High Road, Purasavakkam,...</td>\n",
       "      <td>13.0858690010</td>\n",
       "      <td>80.2546206862</td>\n",
       "      <td>4.5</td>\n",
       "      <td>Excellent</td>\n",
       "      <td>https://www.zomato.com/chennai/welcome-hotel-p...</td>\n",
       "    </tr>\n",
       "    <tr>\n",
       "      <th>3</th>\n",
       "      <td>18752364</td>\n",
       "      <td>Kappa Chakka Kandhari</td>\n",
       "      <td>Kerala</td>\n",
       "      <td>600</td>\n",
       "      <td>Nungambakkam</td>\n",
       "      <td>Chennai</td>\n",
       "      <td>10, Haddows Road, Opposite to Shastri Bhavan, ...</td>\n",
       "      <td>13.0636648595</td>\n",
       "      <td>80.2478994057</td>\n",
       "      <td>4.6</td>\n",
       "      <td>Excellent</td>\n",
       "      <td>https://www.zomato.com/chennai/kappa-chakka-ka...</td>\n",
       "    </tr>\n",
       "    <tr>\n",
       "      <th>4</th>\n",
       "      <td>66419</td>\n",
       "      <td>Wild Garden Cafe - Amethyst</td>\n",
       "      <td>Cafe, Italian, Continental</td>\n",
       "      <td>1400</td>\n",
       "      <td>Royapettah</td>\n",
       "      <td>Chennai</td>\n",
       "      <td>Whites Road, Royapettah, Chennai</td>\n",
       "      <td>13.0572242429</td>\n",
       "      <td>80.2592049167</td>\n",
       "      <td>4.4</td>\n",
       "      <td>Very Good</td>\n",
       "      <td>https://www.zomato.com/chennai/wild-garden-caf...</td>\n",
       "    </tr>\n",
       "  </tbody>\n",
       "</table>\n",
       "</div>"
      ],
      "text/plain": [
       "   restaurant.R.res_id              restaurant.name  \\\n",
       "0             18369252               Pakwan Chennai   \n",
       "1                66412                      Mathsya   \n",
       "2                68908                Welcome Hotel   \n",
       "3             18752364        Kappa Chakka Kandhari   \n",
       "4                66419  Wild Garden Cafe - Amethyst   \n",
       "\n",
       "                              restaurant.cuisines  \\\n",
       "0                  North Indian, Chinese, Italian   \n",
       "1  South Indian, North Indian, Chinese, Beverages   \n",
       "2                                    South Indian   \n",
       "3                                          Kerala   \n",
       "4                      Cafe, Italian, Continental   \n",
       "\n",
       "   restaurant.average_cost_for_two restaurant.location.locality  \\\n",
       "0                             1200                     T. Nagar   \n",
       "1                              900                       Egmore   \n",
       "2                              250                 Purasavakkam   \n",
       "3                              600                 Nungambakkam   \n",
       "4                             1400                   Royapettah   \n",
       "\n",
       "  restaurant.location.city                        restaurant.location.address  \\\n",
       "0                  Chennai  10, Kuppuswamy Street, G N Chetty Road, T. Nag...   \n",
       "1                  Chennai                     1, Halls Road, Egmore, Chennai   \n",
       "2                  Chennai  112/241, Purasawalkam High Road, Purasavakkam,...   \n",
       "3                  Chennai  10, Haddows Road, Opposite to Shastri Bhavan, ...   \n",
       "4                  Chennai                  Whites Road, Royapettah, Chennai    \n",
       "\n",
       "  restaurant.location.latitude restaurant.location.longitude  \\\n",
       "0                13.0448925413                 80.2388365567   \n",
       "1                13.0750106485                 80.2578178793   \n",
       "2                13.0858690010                 80.2546206862   \n",
       "3                13.0636648595                 80.2478994057   \n",
       "4                13.0572242429                 80.2592049167   \n",
       "\n",
       "  restaurant.user_rating.aggregate_rating restaurant.user_rating.rating_text  \\\n",
       "0                                     4.2                          Very Good   \n",
       "1                                     4.1                          Very Good   \n",
       "2                                     4.5                          Excellent   \n",
       "3                                     4.6                          Excellent   \n",
       "4                                     4.4                          Very Good   \n",
       "\n",
       "                                 restaurant.menu_url  \n",
       "0  https://www.zomato.com/chennai/pakwan-chennai-...  \n",
       "1  https://www.zomato.com/chennai/mathsya-egmore/...  \n",
       "2  https://www.zomato.com/chennai/welcome-hotel-p...  \n",
       "3  https://www.zomato.com/chennai/kappa-chakka-ka...  \n",
       "4  https://www.zomato.com/chennai/wild-garden-caf...  "
      ]
     },
     "execution_count": 62,
     "metadata": {},
     "output_type": "execute_result"
    }
   ],
   "source": [
    "\n",
    "getChennaiURL = zmRootEndpoint + getSearchDetails.format(eId = 7,\n",
    "                                                         city = 'city',\n",
    "                                                         q = 'chennai',\n",
    "                                                         start = \"\",\n",
    "                                                         count = 20,\n",
    "                                                         lat = 13.067439,\n",
    "                                                         lon = 80.237617,\n",
    "                                                         rad = 30000)\n",
    "zmChennaiResponse = requests.get(getChennaiURL,\\\n",
    "                                headers = {'user-key':zmApiToken}\n",
    "                                ).json()\n",
    "chnDf = json_normalize(zmChennaiResponse['restaurants'])\n",
    "reqRestData = chnDf[reqColumnFilter]\n",
    "reqRestData.head()"
   ]
  },
  {
   "cell_type": "code",
   "execution_count": 42,
   "metadata": {},
   "outputs": [],
   "source": []
  },
  {
   "cell_type": "code",
   "execution_count": 55,
   "metadata": {},
   "outputs": [
    {
     "data": {
      "text/plain": [
       "1559653066.154676"
      ]
     },
     "execution_count": 55,
     "metadata": {},
     "output_type": "execute_result"
    }
   ],
   "source": [
    "reqRestData.to_csv('ChennaiRestData.csv',\n",
    "                  index = False,\n",
    "                  encoding = 'utf-8')\n",
    "t = time()\n",
    "t"
   ]
  },
  {
   "cell_type": "code",
   "execution_count": 3,
   "metadata": {},
   "outputs": [],
   "source": [
    "startAt = 0\n",
    "#restDateCollected = pd.DataFrame(columns = reqColumnFilter)\n",
    "restDataCollected = pd.DataFrame()\n",
    "\n",
    "while True:\n",
    "    if(startAt <= 80):\n",
    "        getChennaiURL = zmRootEndpoint + getSearchDetails.format(eId = 7,\n",
    "                                                             city = 'city',\n",
    "                                                             q = 'chennai',\n",
    "                                                             start = startAt,\n",
    "                                                             count = 20,\n",
    "                                                             lat = 13.067439,\n",
    "                                                             lon = 80.237617,\n",
    "                                                             rad = 30000)\n",
    "        zmChennaiResponse = requests.get(getChennaiURL,\\\n",
    "                                    headers = {'user-key':zmApiToken}\n",
    "                                    ).json()\n",
    "        chnDf = json_normalize(zmChennaiResponse['restaurants'])\n",
    "        reqRestData = chnDf[reqColumnFilter]\n",
    "        restDataCollected = restDataCollected.append(reqRestData)\n",
    "        startAt = startAt + 20\n",
    "    else:\n",
    "        break\n",
    "    \n",
    "#DataCollectedDF = pd.concat(restDateCollected, ignore_index=False)"
   ]
  },
  {
   "cell_type": "code",
   "execution_count": 7,
   "metadata": {},
   "outputs": [
    {
     "data": {
      "text/plain": [
       "1559716354.8361473"
      ]
     },
     "execution_count": 7,
     "metadata": {},
     "output_type": "execute_result"
    }
   ],
   "source": [
    "restDataCollected.to_csv('ChennaiRestDataIfStart.csv',\n",
    "                  index = False,\n",
    "                  encoding = 'utf-8')\n",
    "t = time()\n",
    "t"
   ]
  },
  {
   "cell_type": "code",
   "execution_count": 6,
   "metadata": {},
   "outputs": [
    {
     "data": {
      "text/plain": [
       "(100, 12)"
      ]
     },
     "execution_count": 6,
     "metadata": {},
     "output_type": "execute_result"
    }
   ],
   "source": [
    "restDataCollected.shape"
   ]
  },
  {
   "cell_type": "code",
   "execution_count": null,
   "metadata": {},
   "outputs": [],
   "source": []
  }
 ],
 "metadata": {
  "kernelspec": {
   "display_name": "Python 3",
   "language": "python",
   "name": "python3"
  },
  "language_info": {
   "codemirror_mode": {
    "name": "ipython",
    "version": 3
   },
   "file_extension": ".py",
   "mimetype": "text/x-python",
   "name": "python",
   "nbconvert_exporter": "python",
   "pygments_lexer": "ipython3",
   "version": "3.7.3"
  }
 },
 "nbformat": 4,
 "nbformat_minor": 2
}
